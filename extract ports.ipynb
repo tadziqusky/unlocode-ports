{
 "cells": [
  {
   "cell_type": "markdown",
   "metadata": {},
   "source": [
    "# Datasets can be downloaded from UNECE website: http://www.unece.org/cefact/codesfortrade/codes_index.html"
   ]
  },
  {
   "cell_type": "code",
   "execution_count": 1,
   "metadata": {},
   "outputs": [],
   "source": [
    "import pandas as pd\n",
    "import numpy as np"
   ]
  },
  {
   "cell_type": "code",
   "execution_count": 2,
   "metadata": {},
   "outputs": [],
   "source": [
    "locode_part1 = pd.read_csv(\"datasets/2019-2 UNLOCODE CodeListPart1.csv\", encoding = 'unicode_escape', header=None)\n",
    "locode_part2 = pd.read_csv(\"datasets/2019-2 UNLOCODE CodeListPart2.csv\", encoding = 'unicode_escape', header=None)\n",
    "locode_part3 = pd.read_csv(\"datasets/2019-2 UNLOCODE CodeListPart3.csv\", encoding = 'unicode_escape', header=None)\n",
    "\n",
    "locode_df = pd.concat([locode_part1, locode_part2, locode_part3])\n",
    "\n",
    "locode_df.columns = ['change', 'country', 'location', 'name', 'name_wo_diacritics', 'subdivision', 'status', 'function', 'date', 'iata', 'coordinates', 'remarks' ]"
   ]
  },
  {
   "cell_type": "code",
   "execution_count": 3,
   "metadata": {},
   "outputs": [
    {
     "data": {
      "text/html": "<div>\n<style scoped>\n    .dataframe tbody tr th:only-of-type {\n        vertical-align: middle;\n    }\n\n    .dataframe tbody tr th {\n        vertical-align: top;\n    }\n\n    .dataframe thead th {\n        text-align: right;\n    }\n</style>\n<table border=\"1\" class=\"dataframe\">\n  <thead>\n    <tr style=\"text-align: right;\">\n      <th></th>\n      <th>change</th>\n      <th>country</th>\n      <th>location</th>\n      <th>name</th>\n      <th>name_wo_diacritics</th>\n      <th>subdivision</th>\n      <th>status</th>\n      <th>function</th>\n      <th>date</th>\n      <th>iata</th>\n      <th>coordinates</th>\n      <th>remarks</th>\n    </tr>\n  </thead>\n  <tbody>\n    <tr>\n      <td>0</td>\n      <td>NaN</td>\n      <td>AD</td>\n      <td>NaN</td>\n      <td>.ANDORRA</td>\n      <td>NaN</td>\n      <td>NaN</td>\n      <td>NaN</td>\n      <td>NaN</td>\n      <td>NaN</td>\n      <td>NaN</td>\n      <td>NaN</td>\n      <td>NaN</td>\n    </tr>\n    <tr>\n      <td>1</td>\n      <td>NaN</td>\n      <td>AD</td>\n      <td>ALV</td>\n      <td>Andorra la Vella</td>\n      <td>Andorra la Vella</td>\n      <td>NaN</td>\n      <td>--34-6--</td>\n      <td>AI</td>\n      <td>601.0</td>\n      <td>NaN</td>\n      <td>4230N 00131E</td>\n      <td>NaN</td>\n    </tr>\n    <tr>\n      <td>2</td>\n      <td>NaN</td>\n      <td>AD</td>\n      <td>CAN</td>\n      <td>Canillo</td>\n      <td>Canillo</td>\n      <td>NaN</td>\n      <td>--3-----</td>\n      <td>RL</td>\n      <td>307.0</td>\n      <td>NaN</td>\n      <td>4234N 00135E</td>\n      <td>NaN</td>\n    </tr>\n    <tr>\n      <td>3</td>\n      <td>NaN</td>\n      <td>AD</td>\n      <td>ENC</td>\n      <td>Encamp</td>\n      <td>Encamp</td>\n      <td>NaN</td>\n      <td>--3-----</td>\n      <td>RL</td>\n      <td>307.0</td>\n      <td>NaN</td>\n      <td>4232N 00134E</td>\n      <td>NaN</td>\n    </tr>\n    <tr>\n      <td>4</td>\n      <td>NaN</td>\n      <td>AD</td>\n      <td>ESC</td>\n      <td>Escaldes-Engordany</td>\n      <td>Escaldes-Engordany</td>\n      <td>NaN</td>\n      <td>--3-----</td>\n      <td>RL</td>\n      <td>307.0</td>\n      <td>NaN</td>\n      <td>4231N 00133E</td>\n      <td>NaN</td>\n    </tr>\n    <tr>\n      <td>5</td>\n      <td>NaN</td>\n      <td>AD</td>\n      <td>EAC</td>\n      <td>Escàs</td>\n      <td>Escas</td>\n      <td>04</td>\n      <td>--3-----</td>\n      <td>RL</td>\n      <td>1407.0</td>\n      <td>NaN</td>\n      <td>4233N 00131E</td>\n      <td>NaN</td>\n    </tr>\n    <tr>\n      <td>6</td>\n      <td>NaN</td>\n      <td>AD</td>\n      <td>FMO</td>\n      <td>La Farga de Moles</td>\n      <td>La Farga de Moles</td>\n      <td>NaN</td>\n      <td>--3----B</td>\n      <td>RQ</td>\n      <td>307.0</td>\n      <td>NaN</td>\n      <td>NaN</td>\n      <td>NaN</td>\n    </tr>\n    <tr>\n      <td>7</td>\n      <td>NaN</td>\n      <td>AD</td>\n      <td>LMA</td>\n      <td>La Massana</td>\n      <td>La Massana</td>\n      <td>NaN</td>\n      <td>--3-----</td>\n      <td>RL</td>\n      <td>307.0</td>\n      <td>NaN</td>\n      <td>4234N 00129E</td>\n      <td>NaN</td>\n    </tr>\n    <tr>\n      <td>8</td>\n      <td>NaN</td>\n      <td>AD</td>\n      <td>ORD</td>\n      <td>Ordino</td>\n      <td>Ordino</td>\n      <td>NaN</td>\n      <td>--3-----</td>\n      <td>RL</td>\n      <td>307.0</td>\n      <td>NaN</td>\n      <td>4233N 00131E</td>\n      <td>NaN</td>\n    </tr>\n    <tr>\n      <td>9</td>\n      <td>NaN</td>\n      <td>AD</td>\n      <td>PAS</td>\n      <td>Pas de la Casa</td>\n      <td>Pas de la Casa</td>\n      <td>NaN</td>\n      <td>--3----B</td>\n      <td>RL</td>\n      <td>307.0</td>\n      <td>NaN</td>\n      <td>4233N 00144E</td>\n      <td>NaN</td>\n    </tr>\n  </tbody>\n</table>\n</div>",
      "text/plain": "  change country location                name  name_wo_diacritics subdivision  \\\n0    NaN      AD      NaN            .ANDORRA                 NaN         NaN   \n1    NaN      AD      ALV    Andorra la Vella    Andorra la Vella         NaN   \n2    NaN      AD      CAN             Canillo             Canillo         NaN   \n3    NaN      AD      ENC              Encamp              Encamp         NaN   \n4    NaN      AD      ESC  Escaldes-Engordany  Escaldes-Engordany         NaN   \n5    NaN      AD      EAC               Escàs               Escas          04   \n6    NaN      AD      FMO   La Farga de Moles   La Farga de Moles         NaN   \n7    NaN      AD      LMA          La Massana          La Massana         NaN   \n8    NaN      AD      ORD              Ordino              Ordino         NaN   \n9    NaN      AD      PAS      Pas de la Casa      Pas de la Casa         NaN   \n\n     status function    date iata   coordinates remarks  \n0       NaN      NaN     NaN  NaN           NaN     NaN  \n1  --34-6--       AI   601.0  NaN  4230N 00131E     NaN  \n2  --3-----       RL   307.0  NaN  4234N 00135E     NaN  \n3  --3-----       RL   307.0  NaN  4232N 00134E     NaN  \n4  --3-----       RL   307.0  NaN  4231N 00133E     NaN  \n5  --3-----       RL  1407.0  NaN  4233N 00131E     NaN  \n6  --3----B       RQ   307.0  NaN           NaN     NaN  \n7  --3-----       RL   307.0  NaN  4234N 00129E     NaN  \n8  --3-----       RL   307.0  NaN  4233N 00131E     NaN  \n9  --3----B       RL   307.0  NaN  4233N 00144E     NaN  "
     },
     "execution_count": 3,
     "metadata": {},
     "output_type": "execute_result"
    }
   ],
   "source": [
    "locode_df.head(10)"
   ]
  },
  {
   "cell_type": "markdown",
   "metadata": {},
   "source": [
    "# Create DataFrame with countries only\n",
    "\n",
    "\n"
   ]
  },
  {
   "cell_type": "code",
   "execution_count": 4,
   "metadata": {},
   "outputs": [],
   "source": [
    "country_condition = locode_df['location'].isnull() & locode_df['change'].isnull()\n",
    "\n",
    "countries_df = locode_df[country_condition]\n",
    "countries_df = countries_df[[\"country\", \"name\"]]\n",
    "countries_df = countries_df.set_index('country')\n",
    "countries_df['name'] = countries_df['name'].str.slice(start=1)\n",
    "countries_df = countries_df.rename(columns={\"name\": \"country_name\"})"
   ]
  },
  {
   "cell_type": "code",
   "execution_count": 6,
   "metadata": {},
   "outputs": [
    {
     "data": {
      "text/html": "<div>\n<style scoped>\n    .dataframe tbody tr th:only-of-type {\n        vertical-align: middle;\n    }\n\n    .dataframe tbody tr th {\n        vertical-align: top;\n    }\n\n    .dataframe thead th {\n        text-align: right;\n    }\n</style>\n<table border=\"1\" class=\"dataframe\">\n  <thead>\n    <tr style=\"text-align: right;\">\n      <th></th>\n      <th>country_name</th>\n    </tr>\n    <tr>\n      <th>country</th>\n      <th></th>\n    </tr>\n  </thead>\n  <tbody>\n    <tr>\n      <td>AD</td>\n      <td>ANDORRA</td>\n    </tr>\n    <tr>\n      <td>AE</td>\n      <td>UNITED ARAB EMIRATES</td>\n    </tr>\n    <tr>\n      <td>AF</td>\n      <td>AFGHANISTAN</td>\n    </tr>\n    <tr>\n      <td>AG</td>\n      <td>ANTIGUA AND BARBUDA</td>\n    </tr>\n    <tr>\n      <td>AI</td>\n      <td>ANGUILLA</td>\n    </tr>\n    <tr>\n      <td>AL</td>\n      <td>ALBANIA</td>\n    </tr>\n    <tr>\n      <td>AM</td>\n      <td>ARMENIA</td>\n    </tr>\n    <tr>\n      <td>AO</td>\n      <td>ANGOLA</td>\n    </tr>\n    <tr>\n      <td>AQ</td>\n      <td>ANTARCTICA</td>\n    </tr>\n    <tr>\n      <td>AR</td>\n      <td>ARGENTINA</td>\n    </tr>\n  </tbody>\n</table>\n</div>",
      "text/plain": "                 country_name\ncountry                      \nAD                    ANDORRA\nAE       UNITED ARAB EMIRATES\nAF                AFGHANISTAN\nAG        ANTIGUA AND BARBUDA\nAI                   ANGUILLA\nAL                    ALBANIA\nAM                    ARMENIA\nAO                     ANGOLA\nAQ                 ANTARCTICA\nAR                  ARGENTINA"
     },
     "execution_count": 6,
     "metadata": {},
     "output_type": "execute_result"
    }
   ],
   "source": [
    "countries_df.head(10)"
   ]
  },
  {
   "cell_type": "markdown",
   "metadata": {},
   "source": [
    "# Create DataFrame with ports only"
   ]
  },
  {
   "cell_type": "code",
   "execution_count": 7,
   "metadata": {},
   "outputs": [],
   "source": [
    "ports_df = locode_df[locode_df[\"status\"].str.slice(start=0, stop=1) == '1'].drop(columns=['change', 'status', 'date', 'remarks', 'function', 'iata', 'subdivision'])\n",
    "\n",
    "ports_df = ports_df.dropna(subset=['coordinates']) \n",
    "\n",
    "ports_df.loc[:, \"latitude\"] = ports_df.coordinates.str.split(expand=True).loc[:, 0]\n",
    "ports_df.loc[:, \"longitude\"] = ports_df.coordinates.str.split(expand=True).loc[:, 1]\n",
    "\n",
    "ports_df[\"latitude\"] = (ports_df[\"latitude\"].str.slice(0, 2).astype(\"double\") + ports_df[\"latitude\"].str.slice(2, 4).astype(\"double\") / 60) * ports_df[\"latitude\"].str.slice(4, 5).map(lambda x: 1 if x == \"N\" else -1)\n",
    "ports_df[\"longitude\"] = (ports_df[\"longitude\"].str.slice(0, 3).astype(\"double\") + ports_df[\"longitude\"].str.slice(3, 5).astype(\"double\") / 60) * ports_df[\"longitude\"].str.slice(5, 6).map(lambda x: 1 if x == \"E\" else -1)\n",
    "\n",
    "ports_df = ports_df.drop(columns=[\"coordinates\"])"
   ]
  },
  {
   "cell_type": "code",
   "execution_count": 8,
   "metadata": {},
   "outputs": [
    {
     "data": {
      "text/html": "<div>\n<style scoped>\n    .dataframe tbody tr th:only-of-type {\n        vertical-align: middle;\n    }\n\n    .dataframe tbody tr th {\n        vertical-align: top;\n    }\n\n    .dataframe thead th {\n        text-align: right;\n    }\n</style>\n<table border=\"1\" class=\"dataframe\">\n  <thead>\n    <tr style=\"text-align: right;\">\n      <th></th>\n      <th>country</th>\n      <th>location</th>\n      <th>name</th>\n      <th>name_wo_diacritics</th>\n      <th>latitude</th>\n      <th>longitude</th>\n    </tr>\n  </thead>\n  <tbody>\n    <tr>\n      <td>13</td>\n      <td>AE</td>\n      <td>ABU</td>\n      <td>Abu al Bukhoosh</td>\n      <td>Abu al Bukhoosh</td>\n      <td>25.483333</td>\n      <td>53.133333</td>\n    </tr>\n    <tr>\n      <td>14</td>\n      <td>AE</td>\n      <td>AUH</td>\n      <td>Abu Dhabi</td>\n      <td>Abu Dhabi</td>\n      <td>24.466667</td>\n      <td>54.366667</td>\n    </tr>\n    <tr>\n      <td>15</td>\n      <td>AE</td>\n      <td>AMU</td>\n      <td>Abu Musa</td>\n      <td>Abu Musa</td>\n      <td>25.866667</td>\n      <td>55.016667</td>\n    </tr>\n    <tr>\n      <td>16</td>\n      <td>AE</td>\n      <td>ARP</td>\n      <td>Ahmed Bin Rashid Port</td>\n      <td>Ahmed Bin Rashid Port</td>\n      <td>25.533333</td>\n      <td>55.550000</td>\n    </tr>\n    <tr>\n      <td>21</td>\n      <td>AE</td>\n      <td>FJR</td>\n      <td>Al Fujayrah</td>\n      <td>Al Fujayrah</td>\n      <td>25.116667</td>\n      <td>56.333333</td>\n    </tr>\n    <tr>\n      <td>23</td>\n      <td>AE</td>\n      <td>JAZ</td>\n      <td>Al Jazeera Port</td>\n      <td>Al Jazeera Port</td>\n      <td>25.716667</td>\n      <td>55.800000</td>\n    </tr>\n    <tr>\n      <td>24</td>\n      <td>AE</td>\n      <td>AJP</td>\n      <td>Al Jeer Port</td>\n      <td>Al Jeer Port</td>\n      <td>26.033333</td>\n      <td>56.050000</td>\n    </tr>\n    <tr>\n      <td>28</td>\n      <td>AE</td>\n      <td>RUW</td>\n      <td>Ar Ruways</td>\n      <td>Ar Ruways</td>\n      <td>24.116667</td>\n      <td>52.733333</td>\n    </tr>\n    <tr>\n      <td>32</td>\n      <td>AE</td>\n      <td>DBP</td>\n      <td>Dibba</td>\n      <td>Dibba</td>\n      <td>25.616667</td>\n      <td>56.266667</td>\n    </tr>\n    <tr>\n      <td>33</td>\n      <td>AE</td>\n      <td>DXB</td>\n      <td>Dubai</td>\n      <td>Dubai</td>\n      <td>25.250000</td>\n      <td>55.266667</td>\n    </tr>\n  </tbody>\n</table>\n</div>",
      "text/plain": "   country location                   name     name_wo_diacritics   latitude  \\\n13      AE      ABU        Abu al Bukhoosh        Abu al Bukhoosh  25.483333   \n14      AE      AUH              Abu Dhabi              Abu Dhabi  24.466667   \n15      AE      AMU               Abu Musa               Abu Musa  25.866667   \n16      AE      ARP  Ahmed Bin Rashid Port  Ahmed Bin Rashid Port  25.533333   \n21      AE      FJR            Al Fujayrah            Al Fujayrah  25.116667   \n23      AE      JAZ        Al Jazeera Port        Al Jazeera Port  25.716667   \n24      AE      AJP           Al Jeer Port           Al Jeer Port  26.033333   \n28      AE      RUW              Ar Ruways              Ar Ruways  24.116667   \n32      AE      DBP                  Dibba                  Dibba  25.616667   \n33      AE      DXB                  Dubai                  Dubai  25.250000   \n\n    longitude  \n13  53.133333  \n14  54.366667  \n15  55.016667  \n16  55.550000  \n21  56.333333  \n23  55.800000  \n24  56.050000  \n28  52.733333  \n32  56.266667  \n33  55.266667  "
     },
     "execution_count": 8,
     "metadata": {},
     "output_type": "execute_result"
    }
   ],
   "source": [
    "ports_df.head(10)"
   ]
  },
  {
   "cell_type": "code",
   "execution_count": 9,
   "metadata": {},
   "outputs": [
    {
     "data": {
      "text/html": "<div>\n<style scoped>\n    .dataframe tbody tr th:only-of-type {\n        vertical-align: middle;\n    }\n\n    .dataframe tbody tr th {\n        vertical-align: top;\n    }\n\n    .dataframe thead th {\n        text-align: right;\n    }\n</style>\n<table border=\"1\" class=\"dataframe\">\n  <thead>\n    <tr style=\"text-align: right;\">\n      <th></th>\n      <th>country</th>\n      <th>location</th>\n      <th>name</th>\n      <th>name_wo_diacritics</th>\n      <th>latitude</th>\n      <th>longitude</th>\n      <th>country_name</th>\n    </tr>\n  </thead>\n  <tbody>\n    <tr>\n      <td>0</td>\n      <td>AE</td>\n      <td>ABU</td>\n      <td>Abu al Bukhoosh</td>\n      <td>Abu al Bukhoosh</td>\n      <td>25.483333</td>\n      <td>53.133333</td>\n      <td>UNITED ARAB EMIRATES</td>\n    </tr>\n    <tr>\n      <td>1</td>\n      <td>AE</td>\n      <td>AUH</td>\n      <td>Abu Dhabi</td>\n      <td>Abu Dhabi</td>\n      <td>24.466667</td>\n      <td>54.366667</td>\n      <td>UNITED ARAB EMIRATES</td>\n    </tr>\n    <tr>\n      <td>2</td>\n      <td>AE</td>\n      <td>AMU</td>\n      <td>Abu Musa</td>\n      <td>Abu Musa</td>\n      <td>25.866667</td>\n      <td>55.016667</td>\n      <td>UNITED ARAB EMIRATES</td>\n    </tr>\n    <tr>\n      <td>3</td>\n      <td>AE</td>\n      <td>ARP</td>\n      <td>Ahmed Bin Rashid Port</td>\n      <td>Ahmed Bin Rashid Port</td>\n      <td>25.533333</td>\n      <td>55.550000</td>\n      <td>UNITED ARAB EMIRATES</td>\n    </tr>\n    <tr>\n      <td>4</td>\n      <td>AE</td>\n      <td>FJR</td>\n      <td>Al Fujayrah</td>\n      <td>Al Fujayrah</td>\n      <td>25.116667</td>\n      <td>56.333333</td>\n      <td>UNITED ARAB EMIRATES</td>\n    </tr>\n    <tr>\n      <td>...</td>\n      <td>...</td>\n      <td>...</td>\n      <td>...</td>\n      <td>...</td>\n      <td>...</td>\n      <td>...</td>\n      <td>...</td>\n    </tr>\n    <tr>\n      <td>18022</td>\n      <td>ZW</td>\n      <td>CHE</td>\n      <td>Chegutu</td>\n      <td>Chegutu</td>\n      <td>-18.133333</td>\n      <td>30.150000</td>\n      <td>ZIMBABWE</td>\n    </tr>\n    <tr>\n      <td>18023</td>\n      <td>ZW</td>\n      <td>FLU</td>\n      <td>Filabusi</td>\n      <td>Filabusi</td>\n      <td>-20.533333</td>\n      <td>29.283333</td>\n      <td>ZIMBABWE</td>\n    </tr>\n    <tr>\n      <td>18024</td>\n      <td>ZW</td>\n      <td>GWA</td>\n      <td>Gwanda</td>\n      <td>Gwanda</td>\n      <td>-20.933333</td>\n      <td>29.000000</td>\n      <td>ZIMBABWE</td>\n    </tr>\n    <tr>\n      <td>18025</td>\n      <td>ZW</td>\n      <td>RSP</td>\n      <td>Rusape</td>\n      <td>Rusape</td>\n      <td>-18.533333</td>\n      <td>32.116667</td>\n      <td>ZIMBABWE</td>\n    </tr>\n    <tr>\n      <td>18026</td>\n      <td>ZW</td>\n      <td>ZMZ</td>\n      <td>Zimbabwe</td>\n      <td>Zimbabwe</td>\n      <td>-20.266667</td>\n      <td>30.916667</td>\n      <td>ZIMBABWE</td>\n    </tr>\n  </tbody>\n</table>\n<p>18027 rows × 7 columns</p>\n</div>",
      "text/plain": "      country location                   name     name_wo_diacritics  \\\n0          AE      ABU        Abu al Bukhoosh        Abu al Bukhoosh   \n1          AE      AUH              Abu Dhabi              Abu Dhabi   \n2          AE      AMU               Abu Musa               Abu Musa   \n3          AE      ARP  Ahmed Bin Rashid Port  Ahmed Bin Rashid Port   \n4          AE      FJR            Al Fujayrah            Al Fujayrah   \n...       ...      ...                    ...                    ...   \n18022      ZW      CHE                Chegutu                Chegutu   \n18023      ZW      FLU               Filabusi               Filabusi   \n18024      ZW      GWA                 Gwanda                 Gwanda   \n18025      ZW      RSP                 Rusape                 Rusape   \n18026      ZW      ZMZ               Zimbabwe               Zimbabwe   \n\n        latitude  longitude          country_name  \n0      25.483333  53.133333  UNITED ARAB EMIRATES  \n1      24.466667  54.366667  UNITED ARAB EMIRATES  \n2      25.866667  55.016667  UNITED ARAB EMIRATES  \n3      25.533333  55.550000  UNITED ARAB EMIRATES  \n4      25.116667  56.333333  UNITED ARAB EMIRATES  \n...          ...        ...                   ...  \n18022 -18.133333  30.150000              ZIMBABWE  \n18023 -20.533333  29.283333              ZIMBABWE  \n18024 -20.933333  29.000000              ZIMBABWE  \n18025 -18.533333  32.116667              ZIMBABWE  \n18026 -20.266667  30.916667              ZIMBABWE  \n\n[18027 rows x 7 columns]"
     },
     "execution_count": 9,
     "metadata": {},
     "output_type": "execute_result"
    }
   ],
   "source": [
    "ports_with_country_names_df = ports_df.join(countries_df, how='left', on=\"country\")\n",
    "ports_with_country_names_df = ports_with_country_names_df.reset_index()\n",
    "ports_with_country_names_df = ports_with_country_names_df.drop(columns=[\"index\"])\n",
    "\n",
    "ports_with_country_names_df"
   ]
  },
  {
   "cell_type": "code",
   "execution_count": 10,
   "metadata": {},
   "outputs": [],
   "source": [
    "ports_with_country_names_df.to_csv(\"unlocode_ports.csv\", index=False)"
   ]
  },
  {
   "cell_type": "code",
   "execution_count": null,
   "metadata": {},
   "outputs": [],
   "source": []
  }
 ],
 "metadata": {
  "kernelspec": {
   "display_name": "Python 3",
   "language": "python",
   "name": "python3"
  },
  "language_info": {
   "codemirror_mode": {
    "name": "ipython",
    "version": 3
   },
   "file_extension": ".py",
   "mimetype": "text/x-python",
   "name": "python",
   "nbconvert_exporter": "python",
   "pygments_lexer": "ipython3",
   "version": "3.7.3-final"
  }
 },
 "nbformat": 4,
 "nbformat_minor": 2
}